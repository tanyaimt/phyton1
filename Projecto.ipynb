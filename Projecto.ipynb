{
 "cells": [
  {
   "cell_type": "code",
   "execution_count": 12,
   "metadata": {
    "collapsed": false
   },
   "outputs": [
    {
     "name": "stdout",
     "output_type": "stream",
     "text": [
      "(1, 'user1', 'User1Name', 'User2LastName', 20)\n",
      "(2, 'user2', 'user2Name', 'user2LastName', 22)\n",
      "(3, 'user3', 'user3Name', 'user3Lastname', 24)\n"
     ]
    }
   ],
   "source": [
    "mycursor = mydb.cursor()\n",
    "mycursor.execute(\"SELECT * FROM usuario\")\n",
    "myresult = mycursor.fetchall()\n",
    "\n",
    "for x in myresult:\n",
    "  print(x)"
   ]
  },
  {
   "cell_type": "code",
   "execution_count": 13,
   "metadata": {
    "collapsed": false,
    "scrolled": true
   },
   "outputs": [
    {
     "name": "stdout",
     "output_type": "stream",
     "text": [
      "(1, 'calle1', 12)\n",
      "(2, 'calle 2', 34)\n"
     ]
    }
   ],
   "source": [
    "mycursor = mydb.cursor()\n",
    "mycursor.execute(\"SELECT * FROM usuario1\")\n",
    "myresult = mycursor.fetchall()\n",
    "\n",
    "for x in myresult:\n",
    "  print(x)"
   ]
  },
  {
   "cell_type": "code",
   "execution_count": 5,
   "metadata": {
    "collapsed": false
   },
   "outputs": [
    {
     "name": "stdout",
     "output_type": "stream",
     "text": [
      "(1, 1, 1)\n",
      "(2, 2, 1)\n",
      "(3, 3, 2)\n"
     ]
    }
   ],
   "source": [
    "mycursor = mydb.cursor()\n",
    "mycursor.execute(\"SELECT * FROM usuarioDomicilio\")\n",
    "myresult = mycursor.fetchall()\n",
    "\n",
    "for x in myresult:\n",
    "  print(x)"
   ]
  },
  {
   "cell_type": "code",
   "execution_count": 17,
   "metadata": {
    "collapsed": false
   },
   "outputs": [],
   "source": [
    "import mysql.connector\n",
    "import requests\n",
    "import tkinter as tk\n",
    "HEIGHT=500\n",
    "WIDTH=500\n",
    "\n",
    "mydb = mysql.connector.connect(host=\"localhost\",user=\"root\",passwd=\"\",database=\"pythonTEST1\")\n",
    "\n",
    "import speech_recognition as sr\n",
    "\n",
    "r = sr.Recognizer()\n",
    "\n",
    "def capturavoz():\n",
    "    speech = sr.Microphone(device_index=0)\n",
    "    # for speech recognition\n",
    "    with speech as source:\n",
    "        label3['text'] = \"say something!…\"\n",
    "        audio = r.adjust_for_ambient_noise(source)\n",
    "        audio = r.record(source,duration=3,offset=4.7)\n",
    "    # recognize speech using Sphinx\n",
    "    try:\n",
    "        recog = r.recognize_sphinx(audio)  \n",
    "        label4['text'] =\"Sphinx thinks you said '\" + recog + \"'\"\n",
    "    except sr.UnknownValueError:  \n",
    "        label4['text'] =\"Sphinx could not understand audio\"\n",
    "    except sr.RequestError as e:  \n",
    "        label4['text'] =\"Sphinx error; {0}\".format(e)\n",
    "    \n",
    "\n",
    "def format_response(weather):\n",
    "    try:\n",
    "        name = weather['name']\n",
    "        desc = weather['weather'][0]['description']\n",
    "        temp = weather['main']['temp']\n",
    "\n",
    "        final_str = 'Ciudad: %s \\nCondiciones: %s \\nTemperatura (°C): %s' % (name, desc, temp)\n",
    "    except:\n",
    "        final_str = 'There was a problem retrieving that information'\n",
    "\n",
    "    return final_str\n",
    "\n",
    "def get_weather(city):\n",
    "    weather_key = 'a4aa5e3d83ffefaba8c00284de6ef7c3'\n",
    "    url = 'https://api.openweathermap.org/data/2.5/weather'\n",
    "    params = {'APPID': weather_key, 'q': city, 'units': 'metric'}\n",
    "    response = requests.get(url, params=params)\n",
    "    weather = response.json()\n",
    "\n",
    "    label3['text'] = format_response(weather)\n",
    "\n",
    "def buscar(Nombre,Apellido,Edad):\n",
    "    \n",
    "    final_str=Nombre\n",
    "   \n",
    "    mycursor = mydb.cursor()\n",
    "    mycursor.execute('select * from usuario where Nombre=\"%s\" or Apellido=\"%s\" or Edad=\"%s\"' % (Nombre,Apellido,Edad))\n",
    "    myresult = mycursor.fetchall()\n",
    "\n",
    "    for x in myresult:\n",
    "        final_str=x\n",
    "\n",
    "    label3['text'] = final_str\n",
    "    entry2=final_str\n",
    "    return final_str\n",
    "\n",
    "def buscarTodo():\n",
    "    final_str=\"\"\n",
    "    mycursor = mydb.cursor()\n",
    "    mycursor.execute('select usuario.nombre,usuario.apellido,usuario1.* from usuario inner join usuariodomicilio on usuario.idUsuario=usuariodomicilio.idUsuario inner join usuario1 on usuariodomicilio.idDomicilio=usuario1.idDomicilio')\n",
    "    myresult = mycursor.fetchall()\n",
    "\n",
    "    for x in myresult:\n",
    "        final_str =(final_str,\"\\n\",x,)\n",
    "        \n",
    "\n",
    "    label3['text'] = final_str\n",
    "    entry2=final_str\n",
    "    return final_str\n",
    "\n",
    "def limpiar():\n",
    "    label3['text'] = final_str\n",
    "    entry2=final_str\n",
    "    return final_str\n",
    "\n",
    "def insertar(Nombre,Apellido,Edad):\n",
    "    final_str=Nombre+\" \"+Apellido+\" \"+Edad\n",
    "    mycursor = mydb.cursor()\n",
    "    mycursor.execute('insert into usuario (Nombre,Apellido,Edad) values(\"%s\"\",%s\",\"%s\")' % (Nombre,Apellido,Edad))\n",
    "    myresult = mycursor.fetchall()\n",
    "\n",
    " \n",
    "    label3['text'] = final_str\n",
    "#entry2=final_str\n",
    "    return final_str\n",
    "\n",
    "#GUI\n",
    "root=tk.Tk()\n",
    "\n",
    "canvas=tk.Canvas(root,height=HEIGHT,width=WIDTH)\n",
    "canvas.pack()\n",
    "\n",
    "frame1=tk.Frame(root,bg='#e6e6e6')\n",
    "frame1.place(relwidth=0.9,relheight=0.12,relx=0.05,rely=0.05)\n",
    "\n",
    "label=tk.Label(frame1,text=\"Projecto ISC Tanya Rojas    Programacion en Phyton\",bg=\"#e6e6e6\",font=60,anchor=\"e\")\n",
    "label.grid(row=0,column=1)\n",
    "\n",
    "label6=tk.Label(frame1,text=\"MAESTRIA EN CIENCIAS DE LA INGENIERA\",bg=\"#e6e6e6\",font=60,anchor=\"e\")\n",
    "label6.grid(row=1,column=1)\n",
    "\n",
    "frame2=tk.Frame(root,bg='#e6e6e6')\n",
    "frame2.place(relwidth=0.9,relheight=0.35,relx=0.05,rely=0.20)\n",
    "\n",
    "label=tk.Label(frame2,text=\"Nombre (s)\",bg=\"#e6e6e6\",width=20,anchor=\"e\")\n",
    "label.grid(row=0,column=1)\n",
    "\n",
    "entry=tk.Entry(frame2,bg='#ffffff',width=10)\n",
    "entry.grid(row=0,column=2)\n",
    "\n",
    "label1=tk.Label(frame2,text=\"Apellido Paterno\",bg=\"#e6e6e6\",width=20,anchor=\"e\")\n",
    "label1.grid(row=1,column=1)\n",
    "\n",
    "entry1=tk.Entry(frame2,bg='#ffffff',width=10)\n",
    "entry1.grid(row=1,column=2)\n",
    "\n",
    "label2=tk.Label(frame2,text=\"Edad\",bg=\"#e6e6e6\",width=20,anchor=\"e\")\n",
    "label2.grid(row=2,column=1)\n",
    "\n",
    "entry2=tk.Entry(frame2,bg='#ffffff',width=10)\n",
    "entry2.grid(row=2,column=2)\n",
    "\n",
    "label5=tk.Label(frame2,text=\"Codigo postal\",bg=\"#e6e6e6\",width=20,anchor=\"e\")\n",
    "label5.grid(row=3,column=1)\n",
    "\n",
    "entry3=tk.Entry(frame2,bg='#ffffff',width=10)\n",
    "entry3.grid(row=3,column=2)\n",
    "\n",
    "button5 = tk.Button(frame2, text=\"Clima\", font=40,width=10, command=lambda: get_weather(entry3.get()))\n",
    "button5.grid(row=3,column=4)\n",
    "\n",
    "button6 = tk.Button(frame2, text=\"Captura\", font=40,width=10, command=lambda: capturavoz())\n",
    "button6.grid(row=3,column=5)\n",
    "\n",
    "button0 = tk.Button(frame2,text=\"Buscar Todo\",bg='#e6e6e6',font=40,width=10, command=lambda: buscarTodo())\n",
    "button0.grid(row=0,column=4)\n",
    "\n",
    "button1 = tk.Button(frame2,text=\"Buscar\",bg='#e6e6e6',font=40,width=10, command=lambda: buscar(entry.get(),entry1.get(),entry2.get()))\n",
    "button1.grid(row=0,column=5)\n",
    "\n",
    "frame3=tk.Frame(root,bg='#e6e6e6')\n",
    "frame3.place(relwidth=0.9,relheight=0.15,relx=0.05,rely=0.60)\n",
    "\n",
    "label3=tk.Label(frame3,text=\"\",bg=\"#e6e6e6\",width=30)\n",
    "label3.grid(row=3,column=1,columnspan=3)\n",
    "\n",
    "frame4=tk.Frame(root,bg='#e6e6e6')\n",
    "frame4.place(relwidth=0.9,relheight=0.15,relx=0.05,rely=0.80)\n",
    "\n",
    "label4=tk.Label(frame4,text=\"\",bg=\"#e6e6e6\",width=30)\n",
    "label4.grid(row=3,column=1,columnspan=3)\n",
    "\n",
    "root.mainloop()"
   ]
  },
  {
   "cell_type": "code",
   "execution_count": 7,
   "metadata": {
    "collapsed": false
   },
   "outputs": [
    {
     "name": "stdout",
     "output_type": "stream",
     "text": [
      "say something!…\n",
      "Sphinx thinks you said 'oh'\n"
     ]
    }
   ],
   "source": [
    "import speech_recognition as sr\n",
    "\n",
    "r = sr.Recognizer()\n",
    "speech = sr.Microphone(device_index=0)\n",
    "# for speech recognition\n",
    "with speech as source:\n",
    "    print(\"say something!…\")\n",
    "    audio = r.adjust_for_ambient_noise(source)\n",
    "    audio = r.record(source,duration=3,offset=4.7)\n",
    "# recognize speech using Sphinx\n",
    "try:\n",
    "    recog = r.recognize_sphinx(audio)  \n",
    "    print(\"Sphinx thinks you said '\" + recog + \"'\")  \n",
    "except sr.UnknownValueError:  \n",
    "    print(\"Sphinx could not understand audio\")  \n",
    "except sr.RequestError as e:  \n",
    "    print(\"Sphinx error; {0}\".format(e))"
   ]
  }
 ],
 "metadata": {
  "kernelspec": {
   "display_name": "Python 3",
   "language": "python",
   "name": "python3"
  },
  "language_info": {
   "codemirror_mode": {
    "name": "ipython",
    "version": 3
   },
   "file_extension": ".py",
   "mimetype": "text/x-python",
   "name": "python",
   "nbconvert_exporter": "python",
   "pygments_lexer": "ipython3",
   "version": "3.6.0"
  }
 },
 "nbformat": 4,
 "nbformat_minor": 2
}
